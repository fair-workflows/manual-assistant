{
 "cells": [
  {
   "cell_type": "code",
   "execution_count": 10,
   "metadata": {},
   "outputs": [],
   "source": [
    "import manual_assistant\n",
    "from fairworkflows import FairStep"
   ]
  },
  {
   "cell_type": "code",
   "execution_count": 16,
   "metadata": {},
   "outputs": [],
   "source": [
    "EXAMPLE_STEP_URI = 'http://test-server.nanopubs.lod.labs.vu.nl/RAFszXfE-J3sef_ZX_5LRMM6rHgBt7a1uQH-vZdxfy-RU'\n",
    "step = FairStep.from_nanopub(EXAMPLE_STEP_URI)"
   ]
  },
  {
   "cell_type": "markdown",
   "metadata": {},
   "source": [
    "# Running a manual step\n",
    "A manual step will block the execution and point the user to a webinterface to perform\n",
    "the manual step. The execution will be continued when the manual step has been performed\n",
    "successfully."
   ]
  },
  {
   "cell_type": "code",
   "execution_count": null,
   "metadata": {},
   "outputs": [
    {
     "name": "stderr",
     "output_type": "stream",
     "text": [
      "INFO:root:Starting Manual Step Assistant\n",
      "INFO:root:Please go to http://localhost:8000 to perform the manual step\n",
      "127.0.0.1 - - [27/Jan/2021 11:27:55] \"GET / HTTP/1.1\" 200 -\n"
     ]
    }
   ],
   "source": [
    "outputs = manual_assistant.execute_manual_step(step)"
   ]
  },
  {
   "cell_type": "markdown",
   "metadata": {},
   "source": [
    "`execute_manual_step` also accepts plain URIs pointing to nanopubs:"
   ]
  },
  {
   "cell_type": "code",
   "execution_count": 18,
   "metadata": {},
   "outputs": [
    {
     "name": "stderr",
     "output_type": "stream",
     "text": [
      "INFO:root:Starting Manual Step Assistant\n",
      "INFO:root:Please go to http://localhost:8000 to perform the manual step\n",
      "127.0.0.1 - - [27/Jan/2021 11:23:40] \"GET / HTTP/1.1\" 200 -\n"
     ]
    }
   ],
   "source": [
    "outputs = manual_assistant.execute_manual_step(EXAMPLE_STEP_URI)"
   ]
  },
  {
   "cell_type": "code",
   "execution_count": null,
   "metadata": {},
   "outputs": [],
   "source": []
  }
 ],
 "metadata": {
  "kernelspec": {
   "display_name": "Python 3",
   "language": "python",
   "name": "python3"
  },
  "language_info": {
   "codemirror_mode": {
    "name": "ipython",
    "version": 3
   },
   "file_extension": ".py",
   "mimetype": "text/x-python",
   "name": "python",
   "nbconvert_exporter": "python",
   "pygments_lexer": "ipython3",
   "version": "3.9.1"
  }
 },
 "nbformat": 4,
 "nbformat_minor": 4
}
