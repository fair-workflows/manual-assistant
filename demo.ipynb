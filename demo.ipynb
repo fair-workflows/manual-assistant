{
 "cells": [
  {
   "cell_type": "code",
   "execution_count": 3,
   "metadata": {},
   "outputs": [],
   "source": [
    "import manual_assistant"
   ]
  },
  {
   "cell_type": "code",
   "execution_count": 4,
   "metadata": {},
   "outputs": [],
   "source": [
    "EXAMPLE_STEP_URI = 'http://purl.org/np/RAFszXfE-J3sef_ZX_5LRMM6rHgBt7a1uQH-vZdxfy-RU'"
   ]
  },
  {
   "cell_type": "markdown",
   "metadata": {},
   "source": [
    "# Running a manual step\n",
    "A manual step will block the execution and point the user to a webinterface to perform\n",
    "the manual step. The execution will be continued when the manual step has been performed\n",
    "successfully."
   ]
  },
  {
   "cell_type": "code",
   "execution_count": 7,
   "metadata": {},
   "outputs": [
    {
     "name": "stderr",
     "output_type": "stream",
     "text": [
      "INFO:root:Starting Manual Step Assistant\n",
      "INFO:root:Please go to http://localhost:8000 to perform the manual step\n",
      "DEBUG:urllib3.connectionpool:Starting new HTTP connection (1): purl.org:80\n",
      "DEBUG:urllib3.connectionpool:http://purl.org:80 \"GET /np/RAFszXfE-J3sef_ZX_5LRMM6rHgBt7a1uQH-vZdxfy-RU.trig HTTP/1.1\" 302 251\n",
      "DEBUG:urllib3.connectionpool:Starting new HTTP connection (1): server.nanopubs.lod.labs.vu.nl:80\n",
      "DEBUG:urllib3.connectionpool:http://server.nanopubs.lod.labs.vu.nl:80 \"GET /RAFszXfE-J3sef_ZX_5LRMM6rHgBt7a1uQH-vZdxfy-RU.trig HTTP/1.1\" 404 None\n",
      "DEBUG:urllib3.connectionpool:Starting new HTTP connection (1): test-server.nanopubs.lod.labs.vu.nl:80\n",
      "DEBUG:urllib3.connectionpool:http://test-server.nanopubs.lod.labs.vu.nl:80 \"GET /RAFszXfE-J3sef_ZX_5LRMM6rHgBt7a1uQH-vZdxfy-RU.trig HTTP/1.1\" 200 None\n",
      "127.0.0.1 - - [26/Jan/2021 17:23:45] \"GET / HTTP/1.1\" 200 -\n",
      "DEBUG:urllib3.connectionpool:Starting new HTTP connection (1): purl.org:80\n",
      "DEBUG:urllib3.connectionpool:http://purl.org:80 \"GET /np/RAFszXfE-J3sef_ZX_5LRMM6rHgBt7a1uQH-vZdxfy-RU.trig HTTP/1.1\" 302 251\n",
      "DEBUG:urllib3.connectionpool:Starting new HTTP connection (1): server.nanopubs.lod.labs.vu.nl:80\n",
      "DEBUG:urllib3.connectionpool:http://server.nanopubs.lod.labs.vu.nl:80 \"GET /RAFszXfE-J3sef_ZX_5LRMM6rHgBt7a1uQH-vZdxfy-RU.trig HTTP/1.1\" 404 None\n",
      "DEBUG:urllib3.connectionpool:Starting new HTTP connection (1): test-server.nanopubs.lod.labs.vu.nl:80\n",
      "DEBUG:urllib3.connectionpool:http://test-server.nanopubs.lod.labs.vu.nl:80 \"GET /RAFszXfE-J3sef_ZX_5LRMM6rHgBt7a1uQH-vZdxfy-RU.trig HTTP/1.1\" 200 None\n"
     ]
    },
    {
     "name": "stdout",
     "output_type": "stream",
     "text": [
      "{'aHR0cDovL2V4YW1wbGUub3JnL3Bob3Rv': 'on'}\n",
      "{'http://example.org/photo': 'on'}\n"
     ]
    }
   ],
   "source": [
    "outputs = manual_assistant.execute_manual_step(EXAMPLE_STEP_URI)"
   ]
  },
  {
   "cell_type": "code",
   "execution_count": 8,
   "metadata": {},
   "outputs": [
    {
     "data": {
      "text/plain": [
       "{'http://example.org/photo': 'on'}"
      ]
     },
     "execution_count": 8,
     "metadata": {},
     "output_type": "execute_result"
    }
   ],
   "source": [
    "outputs"
   ]
  }
 ],
 "metadata": {
  "kernelspec": {
   "display_name": "Python 3",
   "language": "python",
   "name": "python3"
  },
  "language_info": {
   "codemirror_mode": {
    "name": "ipython",
    "version": 3
   },
   "file_extension": ".py",
   "mimetype": "text/x-python",
   "name": "python",
   "nbconvert_exporter": "python",
   "pygments_lexer": "ipython3",
   "version": "3.9.1"
  }
 },
 "nbformat": 4,
 "nbformat_minor": 4
}
